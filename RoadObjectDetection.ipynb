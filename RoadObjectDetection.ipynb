{
 "cells": [
  {
   "cell_type": "code",
   "execution_count": 1,
   "id": "85b40048",
   "metadata": {},
   "outputs": [
    {
     "name": "stdout",
     "output_type": "stream",
     "text": [
      "Setup complete. Using torch 2.0.1+cpu (CPU)\n"
     ]
    }
   ],
   "source": [
    "import os\n",
    "from pathlib import Path\n",
    "\n",
    "if not os.path.exists('yolov5'):\n",
    "    !git clone https://github.com/ultralytics/yolov5\n",
    "    %cd yolov5\n",
    "    %pip install -qr requirements.txt\n",
    "else:\n",
    "    %cd yolov5\n",
    "\n",
    "import torch\n",
    "from IPython.display import Image, clear_output\n",
    "\n",
    "clear_output()\n",
    "print(f\"Setup complete. Using torch {torch.__version__} ({torch.cuda.get_device_properties(0).name if torch.cuda.is_available() else 'CPU'})\")"
   ]
  },
  {
   "cell_type": "code",
   "execution_count": 2,
   "id": "71fee312",
   "metadata": {},
   "outputs": [],
   "source": [
    "import detect\n",
    "import detectBinary\n",
    "\n",
    "def classification(choice):\n",
    "    path = 'C:/Users/User/Jupyter_Projects/roadObjDetec/'\n",
    "    weight = '/best05.pt'\n",
    "    conf_t = 0.25\n",
    "    if choice == '1':\n",
    "        source = input('Укажите название видео (например v1.mp4) -> ')\n",
    "        if os.path.exists(path+source):\n",
    "            detect.run(weights=path+weight, conf_thres=conf_t, imgsz=(1920, 1080), source = path + source, project=path+'/detect', name='exp')\n",
    "        else:\n",
    "            print('\\nОшибка: в текущем каталоге нет файла: ' + source)\n",
    "    elif choice == '2':\n",
    "        source = input('Укажите название папки (например example) -> ')\n",
    "        if os.path.exists(path+source) and checkVid(path+source+'/') is True:\n",
    "            sources = path + source + '/'\n",
    "            content = os.listdir(sources)\n",
    "            for file in content:\n",
    "                if os.path.isfile(os.path.join(sources, file)) and file.endswith('.mp4'):\n",
    "                    vid = os.path.join(sources, file)\n",
    "                    detect.run(weights=path+weight, conf_thres=conf_t, imgsz=(1920, 1080), source = vid, project=path+'/detect', name='exp')\n",
    "        elif os.path.exists(path+source) is False:\n",
    "            print('\\nОшибка: в текущем каталоге не существует указанной папки: ' + source)\n",
    "\n",
    "            \n",
    "def binary_classification(choice):\n",
    "    path = 'C:/Users/User/Jupyter_Projects/roadObjDetec/'\n",
    "    weight = '/best05.pt'\n",
    "    conf_t = 0.25\n",
    "    if choice == '1':\n",
    "        source = input('Укажите название видео (например v1.mp4) -> ')\n",
    "        if os.path.exists(path+source):\n",
    "            detectBinary.run(weights=path+weight, conf_thres=conf_t, imgsz=(1920, 1080), source = path + source, project=path+'/detect', name='exp')\n",
    "        else:\n",
    "            print('\\nОшибка: в текущем каталоге нет файла: ' + source)\n",
    "    elif choice == '2':\n",
    "        source = input('Укажите название папки (например example) -> ')\n",
    "        if os.path.exists(path+source) and checkVid(path+source+'/') is True:\n",
    "            sources = path + source + '/'\n",
    "            content = os.listdir(sources)\n",
    "            for file in content:\n",
    "                if os.path.isfile(os.path.join(sources, file)) and file.endswith('.mp4'):\n",
    "                    vid = os.path.join(sources, file)\n",
    "                    detectBinary.run(weights=path+weight, conf_thres=conf_t, imgsz=(1920, 1080), source = vid, project=path+'/detect', name='exp')\n",
    "        elif os.path.exists(path+source) is False:\n",
    "            print('\\nОшибка: в текущем каталоге не существует указанной папки: ' + source)            \n",
    "\n",
    "\n",
    "def checkVid(source):\n",
    "    content = os.listdir(source)\n",
    "    files = []\n",
    "    for file in content:\n",
    "        if os.path.isfile(os.path.join(source, file)) and file.endswith('.mp4'):\n",
    "            files.append(file)\n",
    "    if len(files) > 0:\n",
    "        print('В данной папке {} видео'.format(len(files)))\n",
    "        return True\n",
    "    else:\n",
    "        print('В данной папке отсутствуют видео')\n",
    "        return False"
   ]
  },
  {
   "cell_type": "code",
   "execution_count": 5,
   "id": "265d1ea3",
   "metadata": {},
   "outputs": [
    {
     "name": "stdout",
     "output_type": "stream",
     "text": [
      "Режим классификации: мультиклассовый\n",
      "Выберите режим работы приложения:\n",
      "1. Обработка одного видео\n",
      "2. Обработка группы видео из папки\n",
      "3. Очистить окно вывода\n",
      "4. Вывод списка видео в каталоге\n",
      "5. Вывод списка папок в каталоге\n",
      "6. Завершение работы\n",
      "7. Смена режима классификации(мультиклассовый/бинарный)\n",
      "-> 6\n",
      "\n",
      "Завершение работы\n"
     ]
    }
   ],
   "source": [
    "cls_opt = 1\n",
    "print('Режим классификации: мультиклассовый')\n",
    "\n",
    "while True:\n",
    "    path = 'C:/Users/User/Jupyter_Projects/roadObjDetec/'\n",
    "    ch = input('Выберите режим работы приложения:\\n1. Обработка одного видео\\n2. Обработка группы видео из папки\\n3. Очистить окно вывода\\n4. Вывод списка видео в каталоге\\n5. Вывод списка папок в каталоге\\n6. Завершение работы\\n7. Смена режима классификации(мультиклассовый/бинарный)\\n-> ')\n",
    "    if ch == '3':\n",
    "        clear_output()\n",
    "    elif ch == '4':\n",
    "        files = []\n",
    "        content = os.listdir(path)\n",
    "        for file in content:\n",
    "            if os.path.isfile(os.path.join(path, file)) and file.endswith('.mp4'):\n",
    "                files.append(file)\n",
    "        print(files)\n",
    "    elif ch == '5':\n",
    "        direc = []\n",
    "        content = os.listdir(path)\n",
    "        for file in content:\n",
    "            if os.path.isdir(os.path.join(path, file)):\n",
    "                direc.append(file)\n",
    "        print(direc)\n",
    "    elif ch == '6':\n",
    "        print('\\nЗавершение работы')\n",
    "        break\n",
    "    elif ch == '7':\n",
    "        if cls_opt == 1:\n",
    "            print('\\nРежим классификации: бинарный\\n')\n",
    "            cls_opt = 2\n",
    "        else:\n",
    "            print('\\nРежим классификации: мультиклассовый\\n')\n",
    "            cls_opt = 1\n",
    "    elif cls_opt == 1:\n",
    "        classification(ch)\n",
    "    elif cls_opt == 2:\n",
    "        binary_classification(ch)"
   ]
  },
  {
   "cell_type": "code",
   "execution_count": null,
   "id": "70cd0d98",
   "metadata": {},
   "outputs": [],
   "source": []
  }
 ],
 "metadata": {
  "kernelspec": {
   "display_name": "Python 3 (ipykernel)",
   "language": "python",
   "name": "python3"
  },
  "language_info": {
   "codemirror_mode": {
    "name": "ipython",
    "version": 3
   },
   "file_extension": ".py",
   "mimetype": "text/x-python",
   "name": "python",
   "nbconvert_exporter": "python",
   "pygments_lexer": "ipython3",
   "version": "3.11.4"
  }
 },
 "nbformat": 4,
 "nbformat_minor": 5
}
